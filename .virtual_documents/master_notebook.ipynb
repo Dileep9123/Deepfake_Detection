import numpy as np
import matplotlib.pyplot as plt
from tensorflow.keras.layers import Input, Dense, Flatten, Conv2D, MaxPooling2D, BatchNormalization, Dropout, Reshape, Concatenate, LeakyReLU
from tensorflow.keras.preprocessing.image import ImageDataGenerator
from tensorflow.keras.optimizers import Adam
from tensorflow.keras.models import Model


image_dimensions = {'height':256, 'width':256, 'channels':3}


class Classifier:
    def __init__():
        self.model = 0
    
    def predict(self, x):
        return self.model.predict(x)
    
    def fit(self, x, y):
        return self.model.train_on_batch(x, y)
    
    def get_accuracy(self, x, y):
        return self.model.test_on_batch(x, y)
    
    def load(self, path):
        self.model.load_weights(path)


class Meso4(Classifier):
    def __init__(self, learning_rate = 0.001):
        self.model = self.init_model()
        optimizer = Adam(lr = learning_rate)
        self.model.compile(optimizer = optimizer,
                           loss = 'mean_squared_error',
                           metrics = ['accuracy'])
    
    def init_model(self): 
        x = Input(shape = (image_dimensions['height'],
                           image_dimensions['width'],
                           image_dimensions['channels']))
        
        x1 = Conv2D(8, (3, 3), padding='same', activation = 'relu')(x)
        x1 = BatchNormalization()(x1)
        x1 = MaxPooling2D(pool_size=(2, 2), padding='same')(x1)
        
        x2 = Conv2D(8, (5, 5), padding='same', activation = 'relu')(x1)
        x2 = BatchNormalization()(x2)
        x2 = MaxPooling2D(pool_size=(2, 2), padding='same')(x2)
        
        x3 = Conv2D(16, (5, 5), padding='same', activation = 'relu')(x2)
        x3 = BatchNormalization()(x3)
        x3 = MaxPooling2D(pool_size=(2, 2), padding='same')(x3)
        
        x4 = Conv2D(16, (5, 5), padding='same', activation = 'relu')(x3)
        x4 = BatchNormalization()(x4)
        x4 = MaxPooling2D(pool_size=(4, 4), padding='same')(x4)
        
        y = Flatten()(x4)
        y = Dropout(0.5)(y)
        y = Dense(16)(y)
        y = LeakyReLU(alpha=0.1)(y)
        y = Dropout(0.5)(y)
        y = Dense(1, activation = 'sigmoid')(y)

        return Model(inputs = x, outputs = y)


def train_model(model, data_directory, save_weights_path, batch_size=32, epochs=100, validation_split=0.2):
    model.model.compile(optimizer=Adam(lr=0.001),
                        loss='mean_squared_error',
                        metrics=['accuracy'])


    dataGenerator = ImageDataGenerator(rescale=1./255, validation_split=validation_split)
    train_generator = dataGenerator.flow_from_directory(
        data_directory,
        target_size=(256, 256),
        batch_size=batch_size,
        class_mode='binary',
        subset='training')  # Set as training data

    validation_generator = dataGenerator.flow_from_directory(
        data_directory,
        target_size=(256, 256),
        batch_size=batch_size,
        class_mode='binary',
        subset='validation')  

    history = model.model.fit(train_generator,
                              epochs=epochs,
                              validation_data=validation_generator)


    model.model.save_weights(save_weights_path)

# Usage example:
meso = Meso4()
train_model(meso, './data/', './weights/trained_model_weights.h5')



meso = Meso4()
meso.load('./weights/Meso4_DF')


dataGenerator = ImageDataGenerator(rescale=1./255)
generator = dataGenerator.flow_from_directory(
    './data/',
    target_size=(256, 256),
    batch_size=1,
    class_mode='binary')


generator.class_indices


!rmdir /s /q c:data\.ipynb_checkpoints


dataGenerator = ImageDataGenerator(rescale=1./255)

generator = dataGenerator.flow_from_directory(
    './data/',
    target_size=(256, 256),
    batch_size=1,
    class_mode='binary')
generator.class_indices


X, y = generator.next()

# Evaluating prediction
print(f"Predicted likelihood: {meso.predict(X)[0][0]:.4f}")
print(f"Actual label: {int(y[0])}")
print(f"\nCorrect prediction: {round(meso.predict(X)[0][0])==y[0]}")
plt.imshow(np.squeeze(X));



correct_real = []
correct_real_pred = []

correct_deepfake = []
correct_deepfake_pred = []

misclassified_real = []
misclassified_real_pred = []

misclassified_deepfake = []
misclassified_deepfake_pred = []


correct_pred=0
incorrect_pred =0
for i in range(len(generator.labels)):
    

    X, y = generator.next()
    pred = meso.predict(X)[0][0]
    
    if round(pred)==y[0] and y[0]==1:
        correct_real.append(X)
        correct_real_pred.append(pred)
        correct_pred+=1
    elif round(pred)==y[0] and y[0]==0:
        correct_deepfake.append(X)
        correct_deepfake_pred.append(pred)
        correct_pred+=1
    elif y[0]==1:
        misclassified_real.append(X)
        misclassified_real_pred.append(pred)
        incorrect_pred+=1
    else:
        misclassified_deepfake.append(X)
        misclassified_deepfake_pred.append(pred)
        incorrect_pred+=1
        
    # Printing status update
    if i % 100 == 0:
        print(i, ' predictions completed.')
    
    if i == len(generator.labels)-1:
        print("All", len(generator.labels), "predictions completed")
total = correct_pred+incorrect_pred
accuracy = correct_pred/total
accuracy_perc=accuracy*100


print("Accuracy of the model - ",accuracy_perc)


def plotter(images,preds):
    fig = plt.figure(figsize=(16,9))
    subset = np.random.randint(0, len(images)-1, 12)
    for i,j in enumerate(subset):
        fig.add_subplot(3,4,i+1)
        plt.imshow(np.squeeze(images[j]))
        plt.xlabel(f"Model confidence: \n{preds[j]:.4f}")
        plt.tight_layout()
        ax = plt.gca()
        ax.axes.xaxis.set_ticks([])
        ax.axes.yaxis.set_ticks([])
    plt.show;
    return


plotter(correct_real, correct_real_pred)


plotter(misclassified_real, misclassified_real_pred)


plotter(correct_deepfake, correct_deepfake_pred)


plotter(misclassified_deepfake, misclassified_deepfake_pred)


def classify_image(image_path, model):
    from tensorflow.keras.preprocessing import image
    import numpy as np

    img = image.load_img(image_path, target_size=(256, 256))
    img = image.img_to_array(img)
    img = np.expand_dims(img, axis=0)
    
  
    img = img / 255.0
    

    prediction = model.predict(img)[0][0]
    if prediction < 0.2:
        return "Fake"
    else:
        return "Real"




meso = Meso4()
meso.load('./weights/Meso4_DF')
image_path = r'C:\Users\laksh\OneDrive\Pictures\100_112.jpg'  # Raw string with a single backslash
result = classify_image(image_path, meso)
print(f"The image is classified as: {result}")



import os
image_path = os.path.abspath('114_132.jpg')


from flask import Flask, request, render_template


app = Flask(__name__)

meso = Meso4()
meso.load('./weights/Meso4_DF')


@app.route('/', methods=['GET', 'POST'])
def upload_image():
    result = None
    image_path = None  

    if request.method == 'POST':
        uploaded_file = request.files['file']

        if uploaded_file.filename != '':
            file_path = 'static/uploads/' + uploaded_file.filename
            uploaded_file.save(file_path)
            result = classify_image(file_path, meso)
 
            image_path = file_path
        return render_template('index3.html', result=result, image_path=uploaded_file.filename)  
            
    return render_template('index3.html')  


if __name__ == '__main__':
    app.run()



import os
directory_name = "uploads"
if not os.path.exists(directory_name):
    os.mkdir(directory_name)
    print(f"Directory '{directory_name}' created.")
else:
    print(f"Directory '{directory_name}' already exists.")






from flask import Flask, request, render_template


app = Flask(__name__)

meso = Meso4()
meso.load('./weights/Meso4_DF')


@app.route('/', methods=['GET', 'POST'])
def upload_image():
    result = None
    image_path = None  

    if request.method == 'POST':
        uploaded_file = request.files['file']

        if uploaded_file.filename != '':
            file_path = 'static/uploads/' + uploaded_file.filename
            uploaded_file.save(file_path)
            result = classify_image(file_path, meso)
 
            image_path = file_path
        return render_template('index2.html', result=result, image_path=uploaded_file.filename)  
            
    return render_template('index2.html')  


if __name__ == '__main__':
    app.run()

